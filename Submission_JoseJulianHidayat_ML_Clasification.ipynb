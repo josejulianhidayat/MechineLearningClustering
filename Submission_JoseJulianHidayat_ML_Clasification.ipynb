{
  "nbformat": 4,
  "nbformat_minor": 0,
  "metadata": {
    "colab": {
      "provenance": [],
      "include_colab_link": true
    },
    "kernelspec": {
      "name": "python3",
      "display_name": "Python 3"
    },
    "language_info": {
      "name": "python"
    }
  },
  "cells": [
    {
      "cell_type": "markdown",
      "metadata": {
        "id": "view-in-github",
        "colab_type": "text"
      },
      "source": [
        "<a href=\"https://colab.research.google.com/github/josejulianhidayat/MechineLearningClustering/blob/main/Submission_JoseJulianHidayat_ML_Clasification.ipynb\" target=\"_parent\"><img src=\"https://colab.research.google.com/assets/colab-badge.svg\" alt=\"Open In Colab\"/></a>"
      ]
    },
    {
      "cell_type": "markdown",
      "source": [
        "# **1. Import Library**"
      ],
      "metadata": {
        "id": "fKADPWcFKlj3"
      }
    },
    {
      "cell_type": "markdown",
      "source": [
        "Pada tahap ini, Anda perlu mengimpor beberapa pustaka (library) Python yang dibutuhkan untuk analisis data dan pembangunan model machine learning."
      ],
      "metadata": {
        "id": "LgA3ERnVn84N"
      }
    },
    {
      "cell_type": "code",
      "source": [
        "# Import library yang diperlukan\n",
        "import pandas as pd\n",
        "from sklearn.model_selection import train_test_split\n",
        "from sklearn.ensemble import RandomForestClassifier\n",
        "from sklearn.metrics import accuracy_score, f1_score, classification_report\n"
      ],
      "metadata": {
        "id": "BlmvjLY9M4Yj"
      },
      "execution_count": null,
      "outputs": []
    },
    {
      "cell_type": "markdown",
      "source": [
        "# **2. Memuat Dataset dari Hasil Clustering**"
      ],
      "metadata": {
        "id": "f3YIEnAFKrKL"
      }
    },
    {
      "cell_type": "markdown",
      "source": [
        "Memuat dataset hasil clustering dari file CSV ke dalam variabel DataFrame."
      ],
      "metadata": {
        "id": "Ey3ItwTen_7E"
      }
    },
    {
      "cell_type": "code",
      "source": [
        "# Memuat dataset hasil clustering\n",
        "data = pd.read_csv('hasil_clustering.csv')\n",
        "\n",
        "# Menampilkan beberapa baris pertama untuk verifikasi\n",
        "print(\"Beberapa baris pertama dari dataset hasil clustering:\")\n",
        "print(data.head())\n"
      ],
      "metadata": {
        "id": "GHCGNTyrM5fS",
        "outputId": "aa642007-eb99-415d-c880-5cca6be3af86",
        "colab": {
          "base_uri": "https://localhost:8080/"
        }
      },
      "execution_count": null,
      "outputs": [
        {
          "output_type": "stream",
          "name": "stdout",
          "text": [
            "Beberapa baris pertama dari dataset hasil clustering:\n",
            "   Unnamed: 0  State  Year      Rape       K&A        DD       AoW       AoM  \\\n",
            "0    0.001361      2   0.0  0.005208  0.003576  0.000000  0.005251  0.000318   \n",
            "1    0.002721      3   0.0  0.128925  0.069566  0.023376  0.057227  0.000425   \n",
            "2    0.005442      6   0.0  0.151333  0.011118  0.027734  0.118697  0.017088   \n",
            "3    0.006803     14   0.0  0.001894  0.000390  0.000792  0.001145  0.000743   \n",
            "4    0.008163     15   0.0  0.045132  0.055718  0.026545  0.050899  0.011781   \n",
            "\n",
            "         DV   WT  Year_Binned  Cluster  \n",
            "0  0.000473  0.0          NaN        0  \n",
            "1  0.053613  0.0          NaN        0  \n",
            "2  0.036086  0.0          NaN        0  \n",
            "3  0.000473  0.0          NaN        0  \n",
            "4  0.157531  0.0          NaN        0  \n"
          ]
        }
      ]
    },
    {
      "cell_type": "markdown",
      "source": [
        "# **3. Data Splitting**"
      ],
      "metadata": {
        "id": "KkPem5eWL2UP"
      }
    },
    {
      "cell_type": "markdown",
      "source": [
        "Tahap Data Splitting bertujuan untuk memisahkan dataset menjadi dua bagian: data latih (training set) dan data uji (test set)."
      ],
      "metadata": {
        "id": "YYj1rl_JNI9Y"
      }
    },
    {
      "cell_type": "code",
      "source": [
        "# Memisahkan fitur dan target\n",
        "X = data.drop(columns=['Cluster'])\n",
        "y = data['Cluster']\n",
        "\n",
        "# Memisahkan data ke dalam set pelatihan dan pengujian\n",
        "X_train, X_test, y_train, y_test = train_test_split(X, y, test_size=0.3, random_state=42)\n"
      ],
      "metadata": {
        "id": "OubAW-7ONKVj"
      },
      "execution_count": null,
      "outputs": []
    },
    {
      "cell_type": "markdown",
      "source": [
        "# **4. Membangun Model Klasifikasi**\n"
      ],
      "metadata": {
        "id": "IVPbB03CMhTT"
      }
    },
    {
      "cell_type": "markdown",
      "source": [
        "## **a. Membangun Model Klasifikasi**"
      ],
      "metadata": {
        "id": "Ned1pL9zMmBK"
      }
    },
    {
      "cell_type": "markdown",
      "source": [
        "Setelah memilih algoritma klasifikasi yang sesuai, langkah selanjutnya adalah melatih model menggunakan data latih.\n",
        "\n",
        "Berikut adalah rekomendasi tahapannya.\n",
        "1. Pilih algoritma klasifikasi yang sesuai, seperti Logistic Regression, Decision Tree, Random Forest, atau K-Nearest Neighbors (KNN).\n",
        "2. Latih model menggunakan data latih."
      ],
      "metadata": {
        "id": "WAWzPOE4Nkti"
      }
    },
    {
      "cell_type": "code",
      "source": [
        "# Melatih model Random Forest\n",
        "model = RandomForestClassifier(random_state=42)\n",
        "model.fit(X_train, y_train)\n",
        "\n",
        "# Memprediksi label untuk data uji\n",
        "y_pred = model.predict(X_test)\n"
      ],
      "metadata": {
        "id": "4JYxBe87NLDk"
      },
      "execution_count": null,
      "outputs": []
    },
    {
      "cell_type": "markdown",
      "source": [
        "Tulis narasi atau penjelasan algoritma yang Anda gunakan."
      ],
      "metadata": {
        "id": "seYoHNY3XU1y"
      }
    },
    {
      "cell_type": "markdown",
      "source": [
        "## **b. Evaluasi Model Klasifikasi**"
      ],
      "metadata": {
        "id": "ergzChZFEL-O"
      }
    },
    {
      "cell_type": "markdown",
      "source": [
        "Berikut adalah **rekomendasi** tahapannya.\n",
        "1. Lakukan prediksi menggunakan data uji.\n",
        "2. Hitung metrik evaluasi seperti Accuracy dan F1-Score (Opsional: Precision dan Recall).\n",
        "3. Buat confusion matrix untuk melihat detail prediksi benar dan salah."
      ],
      "metadata": {
        "id": "zOm68u-7NpLT"
      }
    },
    {
      "cell_type": "code",
      "source": [
        "# Memprediksi label untuk data uji\n",
        "y_pred = model.predict(X_test)\n"
      ],
      "metadata": {
        "id": "vEXlPaC2JxOD"
      },
      "execution_count": null,
      "outputs": []
    },
    {
      "cell_type": "code",
      "source": [
        "# Menghitung akurasi dan F1-score\n",
        "accuracy = accuracy_score(y_test, y_pred)\n",
        "f1 = f1_score(y_test, y_pred, average='weighted')\n",
        "\n",
        "print(f\"Akurasi: {accuracy}\")\n",
        "print(f\"F1-Score: {f1}\")\n",
        "\n",
        "# Menampilkan laporan klasifikasi\n",
        "print(\"\\nLaporan Klasifikasi:\")\n",
        "print(classification_report(y_test, y_pred))\n"
      ],
      "metadata": {
        "id": "tMq4QAssNLip",
        "outputId": "3f71b758-110b-490b-836d-dd8f9b3f4fee",
        "colab": {
          "base_uri": "https://localhost:8080/"
        }
      },
      "execution_count": null,
      "outputs": [
        {
          "output_type": "stream",
          "name": "stdout",
          "text": [
            "Akurasi: 1.0\n",
            "F1-Score: 1.0\n",
            "\n",
            "Laporan Klasifikasi:\n",
            "              precision    recall  f1-score   support\n",
            "\n",
            "           0       1.00      1.00      1.00        51\n",
            "           1       1.00      1.00      1.00        57\n",
            "           2       1.00      1.00      1.00        45\n",
            "\n",
            "    accuracy                           1.00       153\n",
            "   macro avg       1.00      1.00      1.00       153\n",
            "weighted avg       1.00      1.00      1.00       153\n",
            "\n"
          ]
        }
      ]
    },
    {
      "cell_type": "code",
      "source": [
        "from sklearn.metrics import confusion_matrix, ConfusionMatrixDisplay\n",
        "import matplotlib.pyplot as plt\n",
        "\n",
        "# Membuat confusion matrix\n",
        "cm = confusion_matrix(y_test, y_pred)\n",
        "\n",
        "# Menampilkan confusion matrix\n",
        "disp = ConfusionMatrixDisplay(confusion_matrix=cm)\n",
        "disp.plot(cmap=plt.cm.Blues)\n",
        "plt.title(\"Confusion Matrix\")\n",
        "plt.show()\n"
      ],
      "metadata": {
        "id": "dB_B38o0KB8D",
        "outputId": "9612ea81-42eb-4e29-f303-346abef4122c",
        "colab": {
          "base_uri": "https://localhost:8080/",
          "height": 472
        }
      },
      "execution_count": null,
      "outputs": [
        {
          "output_type": "display_data",
          "data": {
            "text/plain": [
              "<Figure size 640x480 with 2 Axes>"
            ],
            "image/png": "[encoded data removed]"
          },
          "metadata": {}
        }
      ]
    },
    {
      "cell_type": "markdown",
      "source": [
        "Tulis hasil evaluasi algoritma yang digunakan, jika Anda menggunakan 2 algoritma, maka bandingkan hasilnya."
      ],
      "metadata": {
        "id": "H4_9OwrsXZlz"
      }
    },
    {
      "cell_type": "markdown",
      "source": [
        "## **c. Tuning Model Klasifikasi (Optional)**"
      ],
      "metadata": {
        "id": "ph9yIYDXEPuB"
      }
    },
    {
      "cell_type": "markdown",
      "source": [
        "Gunakan GridSearchCV, RandomizedSearchCV, atau metode lainnya untuk mencari kombinasi hyperparameter terbaik"
      ],
      "metadata": {
        "id": "-Bikx3LINv5e"
      }
    },
    {
      "cell_type": "code",
      "source": [
        "from sklearn.model_selection import GridSearchCV\n",
        "\n",
        "# Definisikan parameter yang ingin dituning\n",
        "param_grid = {\n",
        "    'n_estimators': [50, 100, 200],\n",
        "    'max_depth': [None, 10, 20, 30],\n",
        "    'min_samples_split': [2, 5, 10],\n",
        "    'min_samples_leaf': [1, 2, 4]\n",
        "}\n",
        "\n",
        "# Inisiasi model Random Forest\n",
        "rf = RandomForestClassifier(random_state=42)\n",
        "\n",
        "# Inisiasi GridSearchCV\n",
        "grid_search = GridSearchCV(estimator=rf, param_grid=param_grid, cv=5, n_jobs=-1, scoring='f1_weighted')\n",
        "grid_search.fit(X_train, y_train)\n",
        "\n",
        "# Menampilkan parameter terbaik\n",
        "print(\"Parameter terbaik dari GridSearchCV:\")\n",
        "print(grid_search.best_params_)\n"
      ],
      "metadata": {
        "id": "winbFzb8NL95",
        "outputId": "4faf9af9-a268-4992-99cf-8d5ffdd67134",
        "colab": {
          "base_uri": "https://localhost:8080/"
        }
      },
      "execution_count": null,
      "outputs": [
        {
          "output_type": "stream",
          "name": "stdout",
          "text": [
            "Parameter terbaik dari GridSearchCV:\n",
            "{'max_depth': None, 'min_samples_leaf': 1, 'min_samples_split': 2, 'n_estimators': 50}\n"
          ]
        }
      ]
    },
    {
      "cell_type": "markdown",
      "source": [
        "## **d. Evaluasi Model Klasifikasi setelah Tuning (Optional)**"
      ],
      "metadata": {
        "id": "hE7pqlEPEYzI"
      }
    },
    {
      "cell_type": "markdown",
      "source": [
        "Berikut adalah rekomendasi tahapannya.\n",
        "1. Gunakan model dengan hyperparameter terbaik.\n",
        "2. Hitung ulang metrik evaluasi untuk melihat apakah ada peningkatan performa."
      ],
      "metadata": {
        "id": "feaPESoeN0zz"
      }
    },
    {
      "cell_type": "code",
      "source": [
        "# Menggunakan model dengan parameter terbaik dari GridSearchCV\n",
        "best_model = grid_search.best_estimator_\n",
        "\n",
        "# Melakukan prediksi pada data uji\n",
        "y_pred_tuned = best_model.predict(X_test)\n",
        "\n",
        "# Menghitung metrik evaluasi setelah tuning\n",
        "accuracy_tuned = accuracy_score(y_test, y_pred_tuned)\n",
        "f1_tuned = f1_score(y_test, y_pred_tuned, average='weighted')\n",
        "precision_tuned = precision_score(y_test, y_pred_tuned, average='weighted')\n",
        "recall_tuned = recall_score(y_test, y_pred_tuned, average='weighted')\n",
        "\n",
        "print(f\"Akurasi setelah tuning: {accuracy_tuned}\")\n",
        "print(f\"F1-Score setelah tuning: {f1_tuned}\")\n",
        "print(f\"Precision setelah tuning: {precision_tuned}\")\n",
        "print(f\"Recall setelah tuning: {recall_tuned}\")\n"
      ],
      "metadata": {
        "id": "HTXZRvEeNMb1",
        "outputId": "38ca5c24-f4b8-4009-8dcc-696b685b1875",
        "colab": {
          "base_uri": "https://localhost:8080/"
        }
      },
      "execution_count": null,
      "outputs": [
        {
          "output_type": "stream",
          "name": "stdout",
          "text": [
            "Akurasi setelah tuning: 1.0\n",
            "F1-Score setelah tuning: 1.0\n",
            "Precision setelah tuning: 1.0\n",
            "Recall setelah tuning: 1.0\n"
          ]
        }
      ]
    },
    {
      "cell_type": "markdown",
      "source": [
        "## **e. Analisis Hasil Evaluasi Model Klasifikasi**"
      ],
      "metadata": {
        "id": "ZRsOdm4uEgAW"
      }
    },
    {
      "cell_type": "markdown",
      "source": [
        "Hasil Evaluasi Sebelum dan Setelah Tuning:\n",
        "\n",
        "Dari hasil ini, tampak bahwa tuning hyperparameter berhasil meningkatkan performa model, atau model memang sudah baik sejak awal sehingga performa tetap sempurna setelah tuning.\n",
        "Nilai 1.0 pada semua metrik evaluasi mengindikasikan bahwa model berhasil mempelajari pola data dengan sangat baik.\n",
        "Kemungkinan Overfitting:\n",
        "\n",
        "Namun, perlu diwaspadai bahwa nilai 1.0 pada semua metrik bisa menunjukkan potensi overfitting pada data uji jika jumlah data tidak cukup banyak atau data uji terlalu mirip dengan data latih.\n",
        "Sebaiknya lakukan cross-validation tambahan atau uji dengan dataset eksternal untuk memastikan bahwa model tidak hanya cocok dengan data uji ini saja, tetapi juga mampu menggeneralisasi pada data baru.\n",
        "Rekomendasi Tindakan Lanjutan:\n",
        "\n",
        "Lakukan evaluasi tambahan menggunakan teknik validasi silang (cross-validation) untuk memastikan model dapat menggeneralisasi dengan baik.\n",
        "Jika ada data tambahan, pertimbangkan untuk memperluas dataset agar model tidak terlalu menyesuaikan dengan data yang ada.\n",
        "Jika model tetap menunjukkan hasil sempurna pada evaluasi lanjutan, ini adalah indikator kuat bahwa model Anda sudah sangat baik untuk tugas klasifikasi yang diberikan.\n"
      ],
      "metadata": {
        "id": "Hm3BhSi6N4_l"
      }
    }
  ]
}